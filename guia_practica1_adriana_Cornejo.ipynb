{
 "cells": [
  {
   "cell_type": "markdown",
   "id": "38e25a8c",
   "metadata": {},
   "source": [
    "# Guia Practica\n",
    "Nombre: Adriana Cornejo Ulloa"
   ]
  },
  {
   "cell_type": "markdown",
   "id": "ea02fa45",
   "metadata": {},
   "source": [
    "# -- Sección 1: Contexto del Análisis --\n"
   ]
  },
  {
   "cell_type": "markdown",
   "id": "699e113c",
   "metadata": {},
   "source": [
    "\"\"\"\n",
    "# Análisis de Compras Públicas en Ecuador\n",
    "\n",
    "Este notebook presenta un análisis básico de los datos abiertos sobre procesos de contratación pública en Ecuador, usando la API oficial basada en OCDS (Open Contracting Data Standard).\n",
    "\n",
    "El objetivo es entender patrones y montos contratados según año, región y tipo de contratación.\n",
    "\"\"\""
   ]
  },
  {
   "cell_type": "markdown",
   "id": "cb04abf8",
   "metadata": {},
   "source": [
    "# -- Sección 2: Cómo funciona la API --\n"
   ]
  },
  {
   "cell_type": "markdown",
   "id": "864d2c5a",
   "metadata": {},
   "source": [
    "\"\"\"\n",
    "## Uso de la API de Contrataciones Abiertas (OCDS)\n",
    "\n",
    "La API permite buscar procesos de contratación pública mediante:\n",
    "\n",
    "- Palabras clave (`search`)\n",
    "- Año (`year`)\n",
    "- Página de resultados (`page`)\n",
    "- Opcionalmente, comprador (`buyer`) y proveedor (`supplier`)\n",
    "\n",
    "El endpoint principal para búsqueda es:\n",
    "\n",
    "`https://datosabiertos.compraspublicas.gob.ec/PLATAFORMA/api/search_ocds`\n",
    "\n",
    "Ejemplo de URL para buscar contratos del año 2020 con palabra clave \"agua\":\n",
    "\n",
    "`https://datosabiertos.compraspublicas.gob.ec/PLATAFORMA/api/search_ocds?year=2020&search=agua&page=1`\n",
    "\n",
    "La respuesta es un JSON con datos relevantes que luego procesamos con Python.\n",
    "\"\"\""
   ]
  },
  {
   "cell_type": "markdown",
   "id": "c68f9c9f",
   "metadata": {},
   "source": [
    "# -- Sección 3: Código para cargar y explorar datos --\n"
   ]
  },
  {
   "cell_type": "markdown",
   "id": "996a7649",
   "metadata": {},
   "source": [
    "\n",
    "import requests\n",
    "import pandas as pd\n",
    "import plotly.express as px\n",
    "\n",
    "# Parámetros para consulta\n",
    "year = 2023\n",
    "search_keyword = \"Azuay\"\n",
    "page = 1\n",
    "\n",
    "# Construcción de URL y parámetros\n",
    "url = \"https://datosabiertos.compraspublicas.gob.ec/PLATAFORMA/api/search_ocds\"\n",
    "params = {\n",
    "    \"year\": year,\n",
    "    \"search\": search_keyword,\n",
    "    \"page\": page\n",
    "}\n",
    "\n",
    "# Solicitud a la API\n",
    "response = requests.get(url, params=params)\n",
    "data = response.json()\n",
    "\n",
    "# Mostrar la estructura de la respuesta\n",
    "print(f\"Total registros encontrados: {data.get('total', 0)}\")\n",
    "print(f\"Páginas totales: {data.get('pages', 0)}\")\n",
    "\n",
    "# Crear DataFrame con los datos si existen\n",
    "if data.get(\"data\"):\n",
    "    df = pd.DataFrame(data[\"data\"])\n",
    "    display(df.head())\n",
    "else:\n",
    "    print(\"No se encontraron datos para los filtros seleccionados.\")\n"
   ]
  },
  {
   "cell_type": "markdown",
   "id": "4ccf1429",
   "metadata": {},
   "source": [
    "# -- Sección 4: Visualizaciones básicas --\n"
   ]
  },
  {
   "cell_type": "markdown",
   "id": "4c9a9b06",
   "metadata": {},
   "source": [
    "\n",
    "if data.get(\"data\"):\n",
    "    # Convertir fecha a datetime\n",
    "    df['date'] = pd.to_datetime(df['date'], errors='coerce')\n",
    "    df['month'] = df['date'].dt.month\n",
    "    \n",
    "    # Contratos por mes\n",
    "    contratos_mes = df.groupby('month').size().reset_index(name='cantidad')\n",
    "    \n",
    "    # Visualización con Plotly\n",
    "    fig = px.bar(contratos_mes, x='month', y='cantidad',\n",
    "                 labels={'month': 'Mes', 'cantidad': 'Cantidad de Contratos'},\n",
    "                 title=f'Cantidad de contratos en {year} para \"{search_keyword}\"')\n",
    "    fig.show()\n"
   ]
  },
  {
   "cell_type": "markdown",
   "id": "3c76afdd",
   "metadata": {},
   "source": [
    "# -- Sección 5: Pequeñas conclusiones --\n"
   ]
  },
  {
   "cell_type": "markdown",
   "id": "c9bf9ebd",
   "metadata": {},
   "source": [
    "\"\"\"\n",
    "- Para el año seleccionado y búsqueda por palabra clave, se observa la distribución mensual de contratos.\n",
    "- La API permite filtrar y obtener datos dinámicos para diferentes análisis.\n",
    "- La cantidad de contratos puede variar por mes, indicando posibles patrones estacionales o administrativos.\n",
    "\"\"\""
   ]
  }
 ],
 "metadata": {
  "language_info": {
   "name": "python"
  }
 },
 "nbformat": 4,
 "nbformat_minor": 5
}
